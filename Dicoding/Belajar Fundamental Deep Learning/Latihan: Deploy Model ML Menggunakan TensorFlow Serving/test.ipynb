{
 "cells": [
  {
   "cell_type": "code",
   "execution_count": 2,
   "metadata": {},
   "outputs": [
    {
     "name": "stdout",
     "output_type": "stream",
     "text": [
      "Rock\n"
     ]
    }
   ],
   "source": [
    "import requests\n",
    "import tensorflow as tf\n",
    "\n",
    "filename = r'images\\Batu_b.jpg'\n",
    "\n",
    "def images_preprocessing(filename):\n",
    "    image = tf.io.decode_image(open(filename, 'rb').read(), channels=3)\n",
    "    image = tf.image.resize(image, [150, 150])\n",
    "    image = image / 255.0\n",
    "    image_tensor = tf.expand_dims(image, 0)  # [1,150,150,3]\n",
    "    return image_tensor.numpy().tolist()\n",
    "\n",
    "# Preprocessing\n",
    "image_tensor = images_preprocessing(filename)\n",
    "json_data = {\"instances\": image_tensor}\n",
    "\n",
    "# Endpoint TensorFlow Serving\n",
    "endpoint = \"http://localhost:8501/v1/models/rps_model:predict\"\n",
    "response = requests.post(endpoint, json=json_data)\n",
    "\n",
    "if response.status_code == 200:\n",
    "    result = response.json()\n",
    "    if \"predictions\" in result:\n",
    "        prediction = tf.argmax(result['predictions'][0]).numpy()\n",
    "        map_labels = {0: \"Paper\", 1: \"Rock\", 2: \"Scissors\"}\n",
    "        print(map_labels[prediction])\n",
    "    else:\n",
    "        print(\"Response tidak mengandung 'predictions':\", result)\n",
    "else:\n",
    "    print(\"Error:\", response.status_code, response.text)\n"
   ]
  },
  {
   "cell_type": "code",
   "execution_count": null,
   "metadata": {},
   "outputs": [],
   "source": []
  }
 ],
 "metadata": {
  "kernelspec": {
   "display_name": "Python 3",
   "language": "python",
   "name": "python3"
  },
  "language_info": {
   "codemirror_mode": {
    "name": "ipython",
    "version": 3
   },
   "file_extension": ".py",
   "mimetype": "text/x-python",
   "name": "python",
   "nbconvert_exporter": "python",
   "pygments_lexer": "ipython3",
   "version": "3.13.5"
  },
  "orig_nbformat": 4
 },
 "nbformat": 4,
 "nbformat_minor": 2
}
